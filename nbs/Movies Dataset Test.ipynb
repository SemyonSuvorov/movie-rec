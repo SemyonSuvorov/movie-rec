{
 "cells": [
  {
   "cell_type": "code",
   "execution_count": 2,
   "id": "27d1a706-2bde-4a8c-8817-29bc8161ce74",
   "metadata": {
    "ExecuteTime": {
     "end_time": "2024-03-21T12:08:05.548175Z",
     "start_time": "2024-03-21T12:08:05.542447Z"
    }
   },
   "outputs": [],
   "source": [
    "import setup_django\n",
    "setup_django.init()"
   ]
  },
  {
   "cell_type": "code",
   "execution_count": 3,
   "id": "b97c2b8f-152c-476d-bd10-a53ca75192f6",
   "metadata": {
    "ExecuteTime": {
     "end_time": "2024-03-21T12:09:08.158056Z",
     "start_time": "2024-03-21T12:09:08.121847Z"
    }
   },
   "outputs": [
    {
     "data": {
      "text/plain": "<MovieQuerySet [{'title': 'Ariel', 'release_date': datetime.date(1988, 10, 21), 'rating_avg': Decimal('2.77'), 'rating_count': 56}, {'title': 'Shadows in Paradise', 'release_date': datetime.date(1986, 10, 16), 'rating_avg': Decimal('3.17'), 'rating_count': 47}, {'title': 'Four Rooms', 'release_date': datetime.date(1995, 12, 9), 'rating_avg': Decimal('2.61'), 'rating_count': 59}, {'title': 'Judgment Night', 'release_date': datetime.date(1993, 10, 15), 'rating_avg': Decimal('3.11'), 'rating_count': 66}, {'title': 'Star Wars', 'release_date': datetime.date(1977, 5, 25), 'rating_avg': Decimal('2.96'), 'rating_count': 72}, {'title': 'Finding Nemo', 'release_date': datetime.date(2003, 5, 30), 'rating_avg': Decimal('3.24'), 'rating_count': 42}, {'title': 'Forrest Gump', 'release_date': datetime.date(1994, 7, 6), 'rating_avg': Decimal('2.96'), 'rating_count': 69}, {'title': 'American Beauty', 'release_date': datetime.date(1999, 9, 15), 'rating_avg': Decimal('2.91'), 'rating_count': 54}, {'title': 'Citizen Kane', 'release_date': datetime.date(1941, 4, 30), 'rating_avg': Decimal('3.00'), 'rating_count': 46}, {'title': 'Dancer in the Dark', 'release_date': datetime.date(2000, 5, 17), 'rating_avg': Decimal('2.79'), 'rating_count': 48}, {'title': 'The Dark', 'release_date': datetime.date(2006, 1, 26), 'rating_avg': Decimal('3.04'), 'rating_count': 57}, {'title': 'The Fifth Element', 'release_date': datetime.date(1997, 5, 7), 'rating_avg': Decimal('3.02'), 'rating_count': 50}, {'title': 'Metropolis', 'release_date': datetime.date(1927, 1, 10), 'rating_avg': Decimal('3.20'), 'rating_count': 54}, {'title': 'My Life Without Me', 'release_date': datetime.date(2003, 3, 7), 'rating_avg': Decimal('2.47'), 'rating_count': 49}, {'title': 'The Endless Summer', 'release_date': datetime.date(1966, 6, 15), 'rating_avg': Decimal('2.90'), 'rating_count': 50}, {'title': 'Pirates of the Caribbean: The Curse of the Black Pearl', 'release_date': datetime.date(2003, 7, 9), 'rating_avg': Decimal('3.27'), 'rating_count': 45}, {'title': 'Kill Bill: Vol. 1', 'release_date': datetime.date(2003, 10, 10), 'rating_avg': Decimal('2.78'), 'rating_count': 58}, {'title': 'Jarhead', 'release_date': datetime.date(2005, 11, 4), 'rating_avg': Decimal('2.84'), 'rating_count': 49}, {'title': 'Walk on Water', 'release_date': datetime.date(2004, 2, 5), 'rating_avg': Decimal('3.00'), 'rating_count': 51}, {'title': '9 Songs', 'release_date': datetime.date(2004, 7, 16), 'rating_avg': Decimal('3.20'), 'rating_count': 49}, '...(remaining elements truncated)...']>"
     },
     "execution_count": 3,
     "metadata": {},
     "output_type": "execute_result"
    }
   ],
   "source": [
    "from movies.models import Movie\n",
    "\n",
    "qs = Movie.objects.all().values('title', 'release_date', 'rating_avg', 'rating_count')\n",
    "qs"
   ]
  },
  {
   "cell_type": "code",
   "execution_count": 4,
   "outputs": [
    {
     "data": {
      "text/plain": "                 title release_date rating_avg  rating_count\n0                Ariel   1988-10-21       2.77            56\n1  Shadows in Paradise   1986-10-16       3.17            47\n2           Four Rooms   1995-12-09       2.61            59\n3       Judgment Night   1993-10-15       3.11            66\n4            Star Wars   1977-05-25       2.96            72\n5         Finding Nemo   2003-05-30       3.24            42\n6         Forrest Gump   1994-07-06       2.96            69\n7      American Beauty   1999-09-15       2.91            54\n8         Citizen Kane   1941-04-30       3.00            46\n9   Dancer in the Dark   2000-05-17       2.79            48",
      "text/html": "<div>\n<style scoped>\n    .dataframe tbody tr th:only-of-type {\n        vertical-align: middle;\n    }\n\n    .dataframe tbody tr th {\n        vertical-align: top;\n    }\n\n    .dataframe thead th {\n        text-align: right;\n    }\n</style>\n<table border=\"1\" class=\"dataframe\">\n  <thead>\n    <tr style=\"text-align: right;\">\n      <th></th>\n      <th>title</th>\n      <th>release_date</th>\n      <th>rating_avg</th>\n      <th>rating_count</th>\n    </tr>\n  </thead>\n  <tbody>\n    <tr>\n      <th>0</th>\n      <td>Ariel</td>\n      <td>1988-10-21</td>\n      <td>2.77</td>\n      <td>56</td>\n    </tr>\n    <tr>\n      <th>1</th>\n      <td>Shadows in Paradise</td>\n      <td>1986-10-16</td>\n      <td>3.17</td>\n      <td>47</td>\n    </tr>\n    <tr>\n      <th>2</th>\n      <td>Four Rooms</td>\n      <td>1995-12-09</td>\n      <td>2.61</td>\n      <td>59</td>\n    </tr>\n    <tr>\n      <th>3</th>\n      <td>Judgment Night</td>\n      <td>1993-10-15</td>\n      <td>3.11</td>\n      <td>66</td>\n    </tr>\n    <tr>\n      <th>4</th>\n      <td>Star Wars</td>\n      <td>1977-05-25</td>\n      <td>2.96</td>\n      <td>72</td>\n    </tr>\n    <tr>\n      <th>5</th>\n      <td>Finding Nemo</td>\n      <td>2003-05-30</td>\n      <td>3.24</td>\n      <td>42</td>\n    </tr>\n    <tr>\n      <th>6</th>\n      <td>Forrest Gump</td>\n      <td>1994-07-06</td>\n      <td>2.96</td>\n      <td>69</td>\n    </tr>\n    <tr>\n      <th>7</th>\n      <td>American Beauty</td>\n      <td>1999-09-15</td>\n      <td>2.91</td>\n      <td>54</td>\n    </tr>\n    <tr>\n      <th>8</th>\n      <td>Citizen Kane</td>\n      <td>1941-04-30</td>\n      <td>3.00</td>\n      <td>46</td>\n    </tr>\n    <tr>\n      <th>9</th>\n      <td>Dancer in the Dark</td>\n      <td>2000-05-17</td>\n      <td>2.79</td>\n      <td>48</td>\n    </tr>\n  </tbody>\n</table>\n</div>"
     },
     "execution_count": 4,
     "metadata": {},
     "output_type": "execute_result"
    }
   ],
   "source": [
    "import pandas as pd\n",
    "\n",
    "df = pd.DataFrame(qs)\n",
    "df.head(10)"
   ],
   "metadata": {
    "collapsed": false,
    "ExecuteTime": {
     "end_time": "2024-03-21T12:09:56.061551Z",
     "start_time": "2024-03-21T12:09:41.336246Z"
    }
   },
   "id": "172e4e74131d4378"
  },
  {
   "cell_type": "code",
   "execution_count": null,
   "outputs": [],
   "source": [],
   "metadata": {
    "collapsed": false
   },
   "id": "ca07cea2c9032adc"
  }
 ],
 "metadata": {
  "kernelspec": {
   "display_name": "Python 3 (ipykernel)",
   "language": "python",
   "name": "python3"
  },
  "language_info": {
   "codemirror_mode": {
    "name": "ipython",
    "version": 3
   },
   "file_extension": ".py",
   "mimetype": "text/x-python",
   "name": "python",
   "nbconvert_exporter": "python",
   "pygments_lexer": "ipython3",
   "version": "3.11.6"
  }
 },
 "nbformat": 4,
 "nbformat_minor": 5
}
