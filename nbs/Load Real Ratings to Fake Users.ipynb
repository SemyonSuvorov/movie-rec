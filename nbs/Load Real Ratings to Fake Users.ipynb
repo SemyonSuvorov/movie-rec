{
 "cells": [
  {
   "cell_type": "code",
   "execution_count": 1,
   "id": "initial_id",
   "metadata": {
    "collapsed": true,
    "ExecuteTime": {
     "end_time": "2024-03-21T12:12:14.549996Z",
     "start_time": "2024-03-21T12:12:13.794569Z"
    }
   },
   "outputs": [],
   "source": [
    "import setup_django\n",
    "setup_django.init()"
   ]
  },
  {
   "cell_type": "code",
   "execution_count": 2,
   "outputs": [
    {
     "data": {
      "text/plain": "True"
     },
     "execution_count": 2,
     "metadata": {},
     "output_type": "execute_result"
    }
   ],
   "source": [
    "import pandas as pd\n",
    "from django.conf import settings\n",
    "\n",
    "ratings_path = settings.DATA_DIR / \"ratings_small.csv\"\n",
    "ratings_path.exists()"
   ],
   "metadata": {
    "collapsed": false,
    "ExecuteTime": {
     "end_time": "2024-03-21T12:15:06.384027Z",
     "start_time": "2024-03-21T12:15:05.824455Z"
    }
   },
   "id": "f16b872cd232e492"
  },
  {
   "cell_type": "code",
   "execution_count": 4,
   "outputs": [
    {
     "data": {
      "text/plain": "   userId  movieId  rating   timestamp\n0       1       31     2.5  1260759144\n1       1     1029     3.0  1260759179\n2       1     1061     3.0  1260759182\n3       1     1129     2.0  1260759185\n4       1     1172     4.0  1260759205",
      "text/html": "<div>\n<style scoped>\n    .dataframe tbody tr th:only-of-type {\n        vertical-align: middle;\n    }\n\n    .dataframe tbody tr th {\n        vertical-align: top;\n    }\n\n    .dataframe thead th {\n        text-align: right;\n    }\n</style>\n<table border=\"1\" class=\"dataframe\">\n  <thead>\n    <tr style=\"text-align: right;\">\n      <th></th>\n      <th>userId</th>\n      <th>movieId</th>\n      <th>rating</th>\n      <th>timestamp</th>\n    </tr>\n  </thead>\n  <tbody>\n    <tr>\n      <th>0</th>\n      <td>1</td>\n      <td>31</td>\n      <td>2.5</td>\n      <td>1260759144</td>\n    </tr>\n    <tr>\n      <th>1</th>\n      <td>1</td>\n      <td>1029</td>\n      <td>3.0</td>\n      <td>1260759179</td>\n    </tr>\n    <tr>\n      <th>2</th>\n      <td>1</td>\n      <td>1061</td>\n      <td>3.0</td>\n      <td>1260759182</td>\n    </tr>\n    <tr>\n      <th>3</th>\n      <td>1</td>\n      <td>1129</td>\n      <td>2.0</td>\n      <td>1260759185</td>\n    </tr>\n    <tr>\n      <th>4</th>\n      <td>1</td>\n      <td>1172</td>\n      <td>4.0</td>\n      <td>1260759205</td>\n    </tr>\n  </tbody>\n</table>\n</div>"
     },
     "execution_count": 4,
     "metadata": {},
     "output_type": "execute_result"
    }
   ],
   "source": [
    "df = pd.read_csv(ratings_path)\n",
    "df.head(5)"
   ],
   "metadata": {
    "collapsed": false,
    "ExecuteTime": {
     "end_time": "2024-03-21T12:15:52.695238Z",
     "start_time": "2024-03-21T12:15:52.639239Z"
    }
   },
   "id": "eb721ca2672fc82c"
  },
  {
   "cell_type": "code",
   "execution_count": 8,
   "outputs": [
    {
     "name": "stdout",
     "output_type": "stream",
     "text": [
      "set()\n"
     ]
    }
   ],
   "source": [
    "from users.models import User\n",
    "\n",
    "current_users = User.objects.all().values_list('id', flat=True)\n",
    "rating_users = df['userId'].tolist()\n",
    "missing_user_ids = set(rating_users) - set(current_users)\n",
    "print(missing_user_ids)"
   ],
   "metadata": {
    "collapsed": false,
    "ExecuteTime": {
     "end_time": "2024-03-21T12:19:36.993140Z",
     "start_time": "2024-03-21T12:19:36.980542Z"
    }
   },
   "id": "c88ec5b5387105d3"
  },
  {
   "cell_type": "code",
   "execution_count": 7,
   "outputs": [],
   "source": [
    "for uid in missing_user_ids:\n",
    "    User.objects.create(\n",
    "        id=uid,\n",
    "        username = f\"missing-user-{uid}\"\n",
    "    )"
   ],
   "metadata": {
    "collapsed": false,
    "ExecuteTime": {
     "end_time": "2024-03-21T12:19:33.847720Z",
     "start_time": "2024-03-21T12:19:33.587784Z"
    }
   },
   "id": "e3c7c50df88d759a"
  },
  {
   "cell_type": "code",
   "execution_count": 9,
   "outputs": [
    {
     "data": {
      "text/plain": "   userId  movieId  rating   timestamp  value\n0       1       31     2.5  1260759144      3\n1       1     1029     3.0  1260759179      3\n2       1     1061     3.0  1260759182      3\n3       1     1129     2.0  1260759185      2\n4       1     1172     4.0  1260759205      4",
      "text/html": "<div>\n<style scoped>\n    .dataframe tbody tr th:only-of-type {\n        vertical-align: middle;\n    }\n\n    .dataframe tbody tr th {\n        vertical-align: top;\n    }\n\n    .dataframe thead th {\n        text-align: right;\n    }\n</style>\n<table border=\"1\" class=\"dataframe\">\n  <thead>\n    <tr style=\"text-align: right;\">\n      <th></th>\n      <th>userId</th>\n      <th>movieId</th>\n      <th>rating</th>\n      <th>timestamp</th>\n      <th>value</th>\n    </tr>\n  </thead>\n  <tbody>\n    <tr>\n      <th>0</th>\n      <td>1</td>\n      <td>31</td>\n      <td>2.5</td>\n      <td>1260759144</td>\n      <td>3</td>\n    </tr>\n    <tr>\n      <th>1</th>\n      <td>1</td>\n      <td>1029</td>\n      <td>3.0</td>\n      <td>1260759179</td>\n      <td>3</td>\n    </tr>\n    <tr>\n      <th>2</th>\n      <td>1</td>\n      <td>1061</td>\n      <td>3.0</td>\n      <td>1260759182</td>\n      <td>3</td>\n    </tr>\n    <tr>\n      <th>3</th>\n      <td>1</td>\n      <td>1129</td>\n      <td>2.0</td>\n      <td>1260759185</td>\n      <td>2</td>\n    </tr>\n    <tr>\n      <th>4</th>\n      <td>1</td>\n      <td>1172</td>\n      <td>4.0</td>\n      <td>1260759205</td>\n      <td>4</td>\n    </tr>\n  </tbody>\n</table>\n</div>"
     },
     "execution_count": 9,
     "metadata": {},
     "output_type": "execute_result"
    }
   ],
   "source": [
    "import math\n",
    "from decimal import Decimal\n",
    "df['value'] = df['rating'].apply(lambda x: math.ceil(Decimal(x)))\n",
    "df.head(5)"
   ],
   "metadata": {
    "collapsed": false,
    "ExecuteTime": {
     "end_time": "2024-03-21T12:21:06.049284Z",
     "start_time": "2024-03-21T12:21:05.969033Z"
    }
   },
   "id": "1dac024fabe61418"
  },
  {
   "cell_type": "code",
   "execution_count": 10,
   "outputs": [
    {
     "data": {
      "text/plain": "   userId  movieId  rating   timestamp  value  user_id  object_id\n0       1       31     2.5  1260759144      3        1         31\n1       1     1029     3.0  1260759179      3        1       1029\n2       1     1061     3.0  1260759182      3        1       1061\n3       1     1129     2.0  1260759185      2        1       1129\n4       1     1172     4.0  1260759205      4        1       1172",
      "text/html": "<div>\n<style scoped>\n    .dataframe tbody tr th:only-of-type {\n        vertical-align: middle;\n    }\n\n    .dataframe tbody tr th {\n        vertical-align: top;\n    }\n\n    .dataframe thead th {\n        text-align: right;\n    }\n</style>\n<table border=\"1\" class=\"dataframe\">\n  <thead>\n    <tr style=\"text-align: right;\">\n      <th></th>\n      <th>userId</th>\n      <th>movieId</th>\n      <th>rating</th>\n      <th>timestamp</th>\n      <th>value</th>\n      <th>user_id</th>\n      <th>object_id</th>\n    </tr>\n  </thead>\n  <tbody>\n    <tr>\n      <th>0</th>\n      <td>1</td>\n      <td>31</td>\n      <td>2.5</td>\n      <td>1260759144</td>\n      <td>3</td>\n      <td>1</td>\n      <td>31</td>\n    </tr>\n    <tr>\n      <th>1</th>\n      <td>1</td>\n      <td>1029</td>\n      <td>3.0</td>\n      <td>1260759179</td>\n      <td>3</td>\n      <td>1</td>\n      <td>1029</td>\n    </tr>\n    <tr>\n      <th>2</th>\n      <td>1</td>\n      <td>1061</td>\n      <td>3.0</td>\n      <td>1260759182</td>\n      <td>3</td>\n      <td>1</td>\n      <td>1061</td>\n    </tr>\n    <tr>\n      <th>3</th>\n      <td>1</td>\n      <td>1129</td>\n      <td>2.0</td>\n      <td>1260759185</td>\n      <td>2</td>\n      <td>1</td>\n      <td>1129</td>\n    </tr>\n    <tr>\n      <th>4</th>\n      <td>1</td>\n      <td>1172</td>\n      <td>4.0</td>\n      <td>1260759205</td>\n      <td>4</td>\n      <td>1</td>\n      <td>1172</td>\n    </tr>\n  </tbody>\n</table>\n</div>"
     },
     "execution_count": 10,
     "metadata": {},
     "output_type": "execute_result"
    }
   ],
   "source": [
    "df['user_id'] = df['userId']\n",
    "df['object_id'] = df['movieId']\n",
    "df.head()"
   ],
   "metadata": {
    "collapsed": false,
    "ExecuteTime": {
     "end_time": "2024-03-21T12:22:36.327317Z",
     "start_time": "2024-03-21T12:22:36.311003Z"
    }
   },
   "id": "a0fb82d4e2a67042"
  },
  {
   "cell_type": "code",
   "execution_count": 12,
   "outputs": [
    {
     "data": {
      "text/plain": "   user_id  value  object_id\n0        1      3         31\n1        1      3       1029\n2        1      3       1061\n3        1      2       1129\n4        1      4       1172",
      "text/html": "<div>\n<style scoped>\n    .dataframe tbody tr th:only-of-type {\n        vertical-align: middle;\n    }\n\n    .dataframe tbody tr th {\n        vertical-align: top;\n    }\n\n    .dataframe thead th {\n        text-align: right;\n    }\n</style>\n<table border=\"1\" class=\"dataframe\">\n  <thead>\n    <tr style=\"text-align: right;\">\n      <th></th>\n      <th>user_id</th>\n      <th>value</th>\n      <th>object_id</th>\n    </tr>\n  </thead>\n  <tbody>\n    <tr>\n      <th>0</th>\n      <td>1</td>\n      <td>3</td>\n      <td>31</td>\n    </tr>\n    <tr>\n      <th>1</th>\n      <td>1</td>\n      <td>3</td>\n      <td>1029</td>\n    </tr>\n    <tr>\n      <th>2</th>\n      <td>1</td>\n      <td>3</td>\n      <td>1061</td>\n    </tr>\n    <tr>\n      <th>3</th>\n      <td>1</td>\n      <td>2</td>\n      <td>1129</td>\n    </tr>\n    <tr>\n      <th>4</th>\n      <td>1</td>\n      <td>4</td>\n      <td>1172</td>\n    </tr>\n  </tbody>\n</table>\n</div>"
     },
     "execution_count": 12,
     "metadata": {},
     "output_type": "execute_result"
    }
   ],
   "source": [
    "cols = ['user_id', 'value', 'object_id']\n",
    "transformed_df = df.copy()[cols]\n",
    "transformed_df.head()"
   ],
   "metadata": {
    "collapsed": false,
    "ExecuteTime": {
     "end_time": "2024-03-21T12:24:02.459172Z",
     "start_time": "2024-03-21T12:24:02.446292Z"
    }
   },
   "id": "d1202573950730c1"
  },
  {
   "cell_type": "code",
   "execution_count": 13,
   "outputs": [
    {
     "data": {
      "text/plain": "(2256994, {'ratings.Rating': 2256994})"
     },
     "execution_count": 13,
     "metadata": {},
     "output_type": "execute_result"
    }
   ],
   "source": [
    "rating_records = transformed_df.to_dict('records')\n",
    "from ratings.models import Rating\n",
    "qs = Rating.objects.all()\n",
    "qs.delete()"
   ],
   "metadata": {
    "collapsed": false,
    "ExecuteTime": {
     "end_time": "2024-03-21T12:25:45.031709Z",
     "start_time": "2024-03-21T12:25:27.758469Z"
    }
   },
   "id": "19b8900342bff3f5"
  },
  {
   "cell_type": "code",
   "execution_count": 14,
   "outputs": [],
   "source": [
    "from django.contrib.contenttypes.models import ContentType\n",
    "ctype = ContentType.objects.get(app_label='movies', model='movie')\n"
   ],
   "metadata": {
    "collapsed": false,
    "ExecuteTime": {
     "end_time": "2024-03-21T12:26:20.768770Z",
     "start_time": "2024-03-21T12:26:20.750003Z"
    }
   },
   "id": "9ed75a5f2bed16a5"
  },
  {
   "cell_type": "code",
   "execution_count": 17,
   "outputs": [
    {
     "data": {
      "text/plain": "[<Rating: Rating object (None)>,\n <Rating: Rating object (None)>,\n <Rating: Rating object (None)>,\n <Rating: Rating object (None)>,\n <Rating: Rating object (None)>,\n <Rating: Rating object (None)>,\n <Rating: Rating object (None)>,\n <Rating: Rating object (None)>,\n <Rating: Rating object (None)>,\n <Rating: Rating object (None)>,\n <Rating: Rating object (None)>,\n <Rating: Rating object (None)>,\n <Rating: Rating object (None)>,\n <Rating: Rating object (None)>,\n <Rating: Rating object (None)>,\n <Rating: Rating object (None)>,\n <Rating: Rating object (None)>,\n <Rating: Rating object (None)>,\n <Rating: Rating object (None)>,\n <Rating: Rating object (None)>,\n <Rating: Rating object (None)>,\n <Rating: Rating object (None)>,\n <Rating: Rating object (None)>,\n <Rating: Rating object (None)>,\n <Rating: Rating object (None)>,\n <Rating: Rating object (None)>,\n <Rating: Rating object (None)>,\n <Rating: Rating object (None)>,\n <Rating: Rating object (None)>,\n <Rating: Rating object (None)>,\n <Rating: Rating object (None)>,\n <Rating: Rating object (None)>,\n <Rating: Rating object (None)>,\n <Rating: Rating object (None)>,\n <Rating: Rating object (None)>,\n <Rating: Rating object (None)>,\n <Rating: Rating object (None)>,\n <Rating: Rating object (None)>,\n <Rating: Rating object (None)>,\n <Rating: Rating object (None)>,\n <Rating: Rating object (None)>,\n <Rating: Rating object (None)>,\n <Rating: Rating object (None)>,\n <Rating: Rating object (None)>,\n <Rating: Rating object (None)>,\n <Rating: Rating object (None)>,\n <Rating: Rating object (None)>,\n <Rating: Rating object (None)>,\n <Rating: Rating object (None)>,\n <Rating: Rating object (None)>,\n <Rating: Rating object (None)>,\n <Rating: Rating object (None)>,\n <Rating: Rating object (None)>,\n <Rating: Rating object (None)>,\n <Rating: Rating object (None)>,\n <Rating: Rating object (None)>,\n <Rating: Rating object (None)>,\n <Rating: Rating object (None)>,\n <Rating: Rating object (None)>,\n <Rating: Rating object (None)>,\n <Rating: Rating object (None)>,\n <Rating: Rating object (None)>,\n <Rating: Rating object (None)>,\n <Rating: Rating object (None)>,\n <Rating: Rating object (None)>,\n <Rating: Rating object (None)>,\n <Rating: Rating object (None)>,\n <Rating: Rating object (None)>,\n <Rating: Rating object (None)>,\n <Rating: Rating object (None)>,\n <Rating: Rating object (None)>,\n <Rating: Rating object (None)>,\n <Rating: Rating object (None)>,\n <Rating: Rating object (None)>,\n <Rating: Rating object (None)>,\n <Rating: Rating object (None)>,\n <Rating: Rating object (None)>,\n <Rating: Rating object (None)>,\n <Rating: Rating object (None)>,\n <Rating: Rating object (None)>,\n <Rating: Rating object (None)>,\n <Rating: Rating object (None)>,\n <Rating: Rating object (None)>,\n <Rating: Rating object (None)>,\n <Rating: Rating object (None)>,\n <Rating: Rating object (None)>,\n <Rating: Rating object (None)>,\n <Rating: Rating object (None)>,\n <Rating: Rating object (None)>,\n <Rating: Rating object (None)>,\n <Rating: Rating object (None)>,\n <Rating: Rating object (None)>,\n <Rating: Rating object (None)>,\n <Rating: Rating object (None)>,\n <Rating: Rating object (None)>,\n <Rating: Rating object (None)>,\n <Rating: Rating object (None)>,\n <Rating: Rating object (None)>,\n <Rating: Rating object (None)>,\n <Rating: Rating object (None)>,\n <Rating: Rating object (None)>,\n <Rating: Rating object (None)>,\n <Rating: Rating object (None)>,\n <Rating: Rating object (None)>,\n <Rating: Rating object (None)>,\n <Rating: Rating object (None)>,\n <Rating: Rating object (None)>,\n <Rating: Rating object (None)>,\n <Rating: Rating object (None)>,\n <Rating: Rating object (None)>,\n <Rating: Rating object (None)>,\n <Rating: Rating object (None)>,\n <Rating: Rating object (None)>,\n <Rating: Rating object (None)>,\n <Rating: Rating object (None)>,\n <Rating: Rating object (None)>,\n <Rating: Rating object (None)>,\n <Rating: Rating object (None)>,\n <Rating: Rating object (None)>,\n <Rating: Rating object (None)>,\n <Rating: Rating object (None)>,\n <Rating: Rating object (None)>,\n <Rating: Rating object (None)>,\n <Rating: Rating object (None)>,\n <Rating: Rating object (None)>,\n <Rating: Rating object (None)>,\n <Rating: Rating object (None)>,\n <Rating: Rating object (None)>,\n <Rating: Rating object (None)>,\n <Rating: Rating object (None)>,\n <Rating: Rating object (None)>,\n <Rating: Rating object (None)>,\n <Rating: Rating object (None)>,\n <Rating: Rating object (None)>,\n <Rating: Rating object (None)>,\n <Rating: Rating object (None)>,\n <Rating: Rating object (None)>,\n <Rating: Rating object (None)>,\n <Rating: Rating object (None)>,\n <Rating: Rating object (None)>,\n <Rating: Rating object (None)>,\n <Rating: Rating object (None)>,\n <Rating: Rating object (None)>,\n <Rating: Rating object (None)>,\n <Rating: Rating object (None)>,\n <Rating: Rating object (None)>,\n <Rating: Rating object (None)>,\n <Rating: Rating object (None)>,\n <Rating: Rating object (None)>,\n <Rating: Rating object (None)>,\n <Rating: Rating object (None)>,\n <Rating: Rating object (None)>,\n <Rating: Rating object (None)>,\n <Rating: Rating object (None)>,\n <Rating: Rating object (None)>,\n <Rating: Rating object (None)>,\n <Rating: Rating object (None)>,\n <Rating: Rating object (None)>,\n <Rating: Rating object (None)>,\n <Rating: Rating object (None)>,\n <Rating: Rating object (None)>,\n <Rating: Rating object (None)>,\n <Rating: Rating object (None)>,\n <Rating: Rating object (None)>,\n <Rating: Rating object (None)>,\n <Rating: Rating object (None)>,\n <Rating: Rating object (None)>,\n <Rating: Rating object (None)>,\n <Rating: Rating object (None)>,\n <Rating: Rating object (None)>,\n <Rating: Rating object (None)>,\n <Rating: Rating object (None)>,\n <Rating: Rating object (None)>,\n <Rating: Rating object (None)>,\n <Rating: Rating object (None)>,\n <Rating: Rating object (None)>,\n <Rating: Rating object (None)>,\n <Rating: Rating object (None)>,\n <Rating: Rating object (None)>,\n <Rating: Rating object (None)>,\n <Rating: Rating object (None)>,\n <Rating: Rating object (None)>,\n <Rating: Rating object (None)>,\n <Rating: Rating object (None)>,\n <Rating: Rating object (None)>,\n <Rating: Rating object (None)>,\n <Rating: Rating object (None)>,\n <Rating: Rating object (None)>,\n <Rating: Rating object (None)>,\n <Rating: Rating object (None)>,\n <Rating: Rating object (None)>,\n <Rating: Rating object (None)>,\n <Rating: Rating object (None)>,\n <Rating: Rating object (None)>,\n <Rating: Rating object (None)>,\n <Rating: Rating object (None)>,\n <Rating: Rating object (None)>,\n <Rating: Rating object (None)>,\n <Rating: Rating object (None)>,\n <Rating: Rating object (None)>,\n <Rating: Rating object (None)>,\n <Rating: Rating object (None)>,\n <Rating: Rating object (None)>,\n <Rating: Rating object (None)>,\n <Rating: Rating object (None)>,\n <Rating: Rating object (None)>,\n <Rating: Rating object (None)>,\n <Rating: Rating object (None)>,\n <Rating: Rating object (None)>,\n <Rating: Rating object (None)>,\n <Rating: Rating object (None)>,\n <Rating: Rating object (None)>,\n <Rating: Rating object (None)>,\n <Rating: Rating object (None)>,\n <Rating: Rating object (None)>,\n <Rating: Rating object (None)>,\n <Rating: Rating object (None)>,\n <Rating: Rating object (None)>,\n <Rating: Rating object (None)>,\n <Rating: Rating object (None)>,\n <Rating: Rating object (None)>,\n <Rating: Rating object (None)>,\n <Rating: Rating object (None)>,\n <Rating: Rating object (None)>,\n <Rating: Rating object (None)>,\n <Rating: Rating object (None)>,\n <Rating: Rating object (None)>,\n <Rating: Rating object (None)>,\n <Rating: Rating object (None)>,\n <Rating: Rating object (None)>,\n <Rating: Rating object (None)>,\n <Rating: Rating object (None)>,\n <Rating: Rating object (None)>,\n <Rating: Rating object (None)>,\n <Rating: Rating object (None)>,\n <Rating: Rating object (None)>,\n <Rating: Rating object (None)>,\n <Rating: Rating object (None)>,\n <Rating: Rating object (None)>,\n <Rating: Rating object (None)>,\n <Rating: Rating object (None)>,\n <Rating: Rating object (None)>,\n <Rating: Rating object (None)>,\n <Rating: Rating object (None)>,\n <Rating: Rating object (None)>,\n <Rating: Rating object (None)>,\n <Rating: Rating object (None)>,\n <Rating: Rating object (None)>,\n <Rating: Rating object (None)>,\n <Rating: Rating object (None)>,\n <Rating: Rating object (None)>,\n <Rating: Rating object (None)>,\n <Rating: Rating object (None)>,\n <Rating: Rating object (None)>,\n <Rating: Rating object (None)>,\n <Rating: Rating object (None)>,\n <Rating: Rating object (None)>,\n <Rating: Rating object (None)>,\n <Rating: Rating object (None)>,\n <Rating: Rating object (None)>,\n <Rating: Rating object (None)>,\n <Rating: Rating object (None)>,\n <Rating: Rating object (None)>,\n <Rating: Rating object (None)>,\n <Rating: Rating object (None)>,\n <Rating: Rating object (None)>,\n <Rating: Rating object (None)>,\n <Rating: Rating object (None)>,\n <Rating: Rating object (None)>,\n <Rating: Rating object (None)>,\n <Rating: Rating object (None)>,\n <Rating: Rating object (None)>,\n <Rating: Rating object (None)>,\n <Rating: Rating object (None)>,\n <Rating: Rating object (None)>,\n <Rating: Rating object (None)>,\n <Rating: Rating object (None)>,\n <Rating: Rating object (None)>,\n <Rating: Rating object (None)>,\n <Rating: Rating object (None)>,\n <Rating: Rating object (None)>,\n <Rating: Rating object (None)>,\n <Rating: Rating object (None)>,\n <Rating: Rating object (None)>,\n <Rating: Rating object (None)>,\n <Rating: Rating object (None)>,\n <Rating: Rating object (None)>,\n <Rating: Rating object (None)>,\n <Rating: Rating object (None)>,\n <Rating: Rating object (None)>,\n <Rating: Rating object (None)>,\n <Rating: Rating object (None)>,\n <Rating: Rating object (None)>,\n <Rating: Rating object (None)>,\n <Rating: Rating object (None)>,\n <Rating: Rating object (None)>,\n <Rating: Rating object (None)>,\n <Rating: Rating object (None)>,\n <Rating: Rating object (None)>,\n <Rating: Rating object (None)>,\n <Rating: Rating object (None)>,\n <Rating: Rating object (None)>,\n <Rating: Rating object (None)>,\n <Rating: Rating object (None)>,\n <Rating: Rating object (None)>,\n <Rating: Rating object (None)>,\n <Rating: Rating object (None)>,\n <Rating: Rating object (None)>,\n <Rating: Rating object (None)>,\n <Rating: Rating object (None)>,\n <Rating: Rating object (None)>,\n <Rating: Rating object (None)>,\n <Rating: Rating object (None)>,\n <Rating: Rating object (None)>,\n <Rating: Rating object (None)>,\n <Rating: Rating object (None)>,\n <Rating: Rating object (None)>,\n <Rating: Rating object (None)>,\n <Rating: Rating object (None)>,\n <Rating: Rating object (None)>,\n <Rating: Rating object (None)>,\n <Rating: Rating object (None)>,\n <Rating: Rating object (None)>,\n <Rating: Rating object (None)>,\n <Rating: Rating object (None)>,\n <Rating: Rating object (None)>,\n <Rating: Rating object (None)>,\n <Rating: Rating object (None)>,\n <Rating: Rating object (None)>,\n <Rating: Rating object (None)>,\n <Rating: Rating object (None)>,\n <Rating: Rating object (None)>,\n <Rating: Rating object (None)>,\n <Rating: Rating object (None)>,\n <Rating: Rating object (None)>,\n <Rating: Rating object (None)>,\n <Rating: Rating object (None)>,\n <Rating: Rating object (None)>,\n <Rating: Rating object (None)>,\n <Rating: Rating object (None)>,\n <Rating: Rating object (None)>,\n <Rating: Rating object (None)>,\n <Rating: Rating object (None)>,\n <Rating: Rating object (None)>,\n <Rating: Rating object (None)>,\n <Rating: Rating object (None)>,\n <Rating: Rating object (None)>,\n <Rating: Rating object (None)>,\n <Rating: Rating object (None)>,\n <Rating: Rating object (None)>,\n <Rating: Rating object (None)>,\n <Rating: Rating object (None)>,\n <Rating: Rating object (None)>,\n <Rating: Rating object (None)>,\n <Rating: Rating object (None)>,\n <Rating: Rating object (None)>,\n <Rating: Rating object (None)>,\n <Rating: Rating object (None)>,\n <Rating: Rating object (None)>,\n <Rating: Rating object (None)>,\n <Rating: Rating object (None)>,\n <Rating: Rating object (None)>,\n <Rating: Rating object (None)>,\n <Rating: Rating object (None)>,\n <Rating: Rating object (None)>,\n <Rating: Rating object (None)>,\n <Rating: Rating object (None)>,\n <Rating: Rating object (None)>,\n <Rating: Rating object (None)>,\n <Rating: Rating object (None)>,\n <Rating: Rating object (None)>,\n <Rating: Rating object (None)>,\n <Rating: Rating object (None)>,\n <Rating: Rating object (None)>,\n <Rating: Rating object (None)>,\n <Rating: Rating object (None)>,\n <Rating: Rating object (None)>,\n <Rating: Rating object (None)>,\n <Rating: Rating object (None)>,\n <Rating: Rating object (None)>,\n <Rating: Rating object (None)>,\n <Rating: Rating object (None)>,\n <Rating: Rating object (None)>,\n <Rating: Rating object (None)>,\n <Rating: Rating object (None)>,\n <Rating: Rating object (None)>,\n <Rating: Rating object (None)>,\n <Rating: Rating object (None)>,\n <Rating: Rating object (None)>,\n <Rating: Rating object (None)>,\n <Rating: Rating object (None)>,\n <Rating: Rating object (None)>,\n <Rating: Rating object (None)>,\n <Rating: Rating object (None)>,\n <Rating: Rating object (None)>,\n <Rating: Rating object (None)>,\n <Rating: Rating object (None)>,\n <Rating: Rating object (None)>,\n <Rating: Rating object (None)>,\n <Rating: Rating object (None)>,\n <Rating: Rating object (None)>,\n <Rating: Rating object (None)>,\n <Rating: Rating object (None)>,\n <Rating: Rating object (None)>,\n <Rating: Rating object (None)>,\n <Rating: Rating object (None)>,\n <Rating: Rating object (None)>,\n <Rating: Rating object (None)>,\n <Rating: Rating object (None)>,\n <Rating: Rating object (None)>,\n <Rating: Rating object (None)>,\n <Rating: Rating object (None)>,\n <Rating: Rating object (None)>,\n <Rating: Rating object (None)>,\n <Rating: Rating object (None)>,\n <Rating: Rating object (None)>,\n <Rating: Rating object (None)>,\n <Rating: Rating object (None)>,\n <Rating: Rating object (None)>,\n <Rating: Rating object (None)>,\n <Rating: Rating object (None)>,\n <Rating: Rating object (None)>,\n <Rating: Rating object (None)>,\n <Rating: Rating object (None)>,\n <Rating: Rating object (None)>,\n <Rating: Rating object (None)>,\n <Rating: Rating object (None)>,\n <Rating: Rating object (None)>,\n <Rating: Rating object (None)>,\n <Rating: Rating object (None)>,\n <Rating: Rating object (None)>,\n <Rating: Rating object (None)>,\n <Rating: Rating object (None)>,\n <Rating: Rating object (None)>,\n <Rating: Rating object (None)>,\n <Rating: Rating object (None)>,\n <Rating: Rating object (None)>,\n <Rating: Rating object (None)>,\n <Rating: Rating object (None)>,\n <Rating: Rating object (None)>,\n <Rating: Rating object (None)>,\n <Rating: Rating object (None)>,\n <Rating: Rating object (None)>,\n <Rating: Rating object (None)>,\n <Rating: Rating object (None)>,\n <Rating: Rating object (None)>,\n <Rating: Rating object (None)>,\n <Rating: Rating object (None)>,\n <Rating: Rating object (None)>,\n <Rating: Rating object (None)>,\n <Rating: Rating object (None)>,\n <Rating: Rating object (None)>,\n <Rating: Rating object (None)>,\n <Rating: Rating object (None)>,\n <Rating: Rating object (None)>,\n <Rating: Rating object (None)>,\n <Rating: Rating object (None)>,\n <Rating: Rating object (None)>,\n <Rating: Rating object (None)>,\n <Rating: Rating object (None)>,\n <Rating: Rating object (None)>,\n <Rating: Rating object (None)>,\n <Rating: Rating object (None)>,\n <Rating: Rating object (None)>,\n <Rating: Rating object (None)>,\n <Rating: Rating object (None)>,\n <Rating: Rating object (None)>,\n <Rating: Rating object (None)>,\n <Rating: Rating object (None)>,\n <Rating: Rating object (None)>,\n <Rating: Rating object (None)>,\n <Rating: Rating object (None)>,\n <Rating: Rating object (None)>,\n <Rating: Rating object (None)>,\n <Rating: Rating object (None)>,\n <Rating: Rating object (None)>,\n <Rating: Rating object (None)>,\n <Rating: Rating object (None)>,\n <Rating: Rating object (None)>,\n <Rating: Rating object (None)>,\n <Rating: Rating object (None)>,\n <Rating: Rating object (None)>,\n <Rating: Rating object (None)>,\n <Rating: Rating object (None)>,\n <Rating: Rating object (None)>,\n <Rating: Rating object (None)>,\n <Rating: Rating object (None)>,\n <Rating: Rating object (None)>,\n <Rating: Rating object (None)>,\n <Rating: Rating object (None)>,\n <Rating: Rating object (None)>,\n <Rating: Rating object (None)>,\n <Rating: Rating object (None)>,\n <Rating: Rating object (None)>,\n <Rating: Rating object (None)>,\n <Rating: Rating object (None)>,\n <Rating: Rating object (None)>,\n <Rating: Rating object (None)>,\n <Rating: Rating object (None)>,\n <Rating: Rating object (None)>,\n <Rating: Rating object (None)>,\n <Rating: Rating object (None)>,\n <Rating: Rating object (None)>,\n <Rating: Rating object (None)>,\n <Rating: Rating object (None)>,\n <Rating: Rating object (None)>,\n <Rating: Rating object (None)>,\n <Rating: Rating object (None)>,\n <Rating: Rating object (None)>,\n <Rating: Rating object (None)>,\n <Rating: Rating object (None)>,\n <Rating: Rating object (None)>,\n <Rating: Rating object (None)>,\n <Rating: Rating object (None)>,\n <Rating: Rating object (None)>,\n <Rating: Rating object (None)>,\n <Rating: Rating object (None)>,\n <Rating: Rating object (None)>,\n <Rating: Rating object (None)>,\n <Rating: Rating object (None)>,\n <Rating: Rating object (None)>,\n <Rating: Rating object (None)>,\n <Rating: Rating object (None)>,\n <Rating: Rating object (None)>,\n <Rating: Rating object (None)>,\n <Rating: Rating object (None)>,\n <Rating: Rating object (None)>,\n <Rating: Rating object (None)>,\n <Rating: Rating object (None)>,\n <Rating: Rating object (None)>,\n <Rating: Rating object (None)>,\n <Rating: Rating object (None)>,\n <Rating: Rating object (None)>,\n <Rating: Rating object (None)>,\n <Rating: Rating object (None)>,\n <Rating: Rating object (None)>,\n <Rating: Rating object (None)>,\n <Rating: Rating object (None)>,\n <Rating: Rating object (None)>,\n <Rating: Rating object (None)>,\n <Rating: Rating object (None)>,\n <Rating: Rating object (None)>,\n <Rating: Rating object (None)>,\n <Rating: Rating object (None)>,\n <Rating: Rating object (None)>,\n <Rating: Rating object (None)>,\n <Rating: Rating object (None)>,\n <Rating: Rating object (None)>,\n <Rating: Rating object (None)>,\n <Rating: Rating object (None)>,\n <Rating: Rating object (None)>,\n <Rating: Rating object (None)>,\n <Rating: Rating object (None)>,\n <Rating: Rating object (None)>,\n <Rating: Rating object (None)>,\n <Rating: Rating object (None)>,\n <Rating: Rating object (None)>,\n <Rating: Rating object (None)>,\n <Rating: Rating object (None)>,\n <Rating: Rating object (None)>,\n <Rating: Rating object (None)>,\n <Rating: Rating object (None)>,\n <Rating: Rating object (None)>,\n <Rating: Rating object (None)>,\n <Rating: Rating object (None)>,\n <Rating: Rating object (None)>,\n <Rating: Rating object (None)>,\n <Rating: Rating object (None)>,\n <Rating: Rating object (None)>,\n <Rating: Rating object (None)>,\n <Rating: Rating object (None)>,\n <Rating: Rating object (None)>,\n <Rating: Rating object (None)>,\n <Rating: Rating object (None)>,\n <Rating: Rating object (None)>,\n <Rating: Rating object (None)>,\n <Rating: Rating object (None)>,\n <Rating: Rating object (None)>,\n <Rating: Rating object (None)>,\n <Rating: Rating object (None)>,\n <Rating: Rating object (None)>,\n <Rating: Rating object (None)>,\n <Rating: Rating object (None)>,\n <Rating: Rating object (None)>,\n <Rating: Rating object (None)>,\n <Rating: Rating object (None)>,\n <Rating: Rating object (None)>,\n <Rating: Rating object (None)>,\n <Rating: Rating object (None)>,\n <Rating: Rating object (None)>,\n <Rating: Rating object (None)>,\n <Rating: Rating object (None)>,\n <Rating: Rating object (None)>,\n <Rating: Rating object (None)>,\n <Rating: Rating object (None)>,\n <Rating: Rating object (None)>,\n <Rating: Rating object (None)>,\n <Rating: Rating object (None)>,\n <Rating: Rating object (None)>,\n <Rating: Rating object (None)>,\n <Rating: Rating object (None)>,\n <Rating: Rating object (None)>,\n <Rating: Rating object (None)>,\n <Rating: Rating object (None)>,\n <Rating: Rating object (None)>,\n <Rating: Rating object (None)>,\n <Rating: Rating object (None)>,\n <Rating: Rating object (None)>,\n <Rating: Rating object (None)>,\n <Rating: Rating object (None)>,\n <Rating: Rating object (None)>,\n <Rating: Rating object (None)>,\n <Rating: Rating object (None)>,\n <Rating: Rating object (None)>,\n <Rating: Rating object (None)>,\n <Rating: Rating object (None)>,\n <Rating: Rating object (None)>,\n <Rating: Rating object (None)>,\n <Rating: Rating object (None)>,\n <Rating: Rating object (None)>,\n <Rating: Rating object (None)>,\n <Rating: Rating object (None)>,\n <Rating: Rating object (None)>,\n <Rating: Rating object (None)>,\n <Rating: Rating object (None)>,\n <Rating: Rating object (None)>,\n <Rating: Rating object (None)>,\n <Rating: Rating object (None)>,\n <Rating: Rating object (None)>,\n <Rating: Rating object (None)>,\n <Rating: Rating object (None)>,\n <Rating: Rating object (None)>,\n <Rating: Rating object (None)>,\n <Rating: Rating object (None)>,\n <Rating: Rating object (None)>,\n <Rating: Rating object (None)>,\n <Rating: Rating object (None)>,\n <Rating: Rating object (None)>,\n <Rating: Rating object (None)>,\n <Rating: Rating object (None)>,\n <Rating: Rating object (None)>,\n <Rating: Rating object (None)>,\n <Rating: Rating object (None)>,\n <Rating: Rating object (None)>,\n <Rating: Rating object (None)>,\n <Rating: Rating object (None)>,\n <Rating: Rating object (None)>,\n <Rating: Rating object (None)>,\n <Rating: Rating object (None)>,\n <Rating: Rating object (None)>,\n <Rating: Rating object (None)>,\n <Rating: Rating object (None)>,\n <Rating: Rating object (None)>,\n <Rating: Rating object (None)>,\n <Rating: Rating object (None)>,\n <Rating: Rating object (None)>,\n <Rating: Rating object (None)>,\n <Rating: Rating object (None)>,\n <Rating: Rating object (None)>,\n <Rating: Rating object (None)>,\n <Rating: Rating object (None)>,\n <Rating: Rating object (None)>,\n <Rating: Rating object (None)>,\n <Rating: Rating object (None)>,\n <Rating: Rating object (None)>,\n <Rating: Rating object (None)>,\n <Rating: Rating object (None)>,\n <Rating: Rating object (None)>,\n <Rating: Rating object (None)>,\n <Rating: Rating object (None)>,\n <Rating: Rating object (None)>,\n <Rating: Rating object (None)>,\n <Rating: Rating object (None)>,\n <Rating: Rating object (None)>,\n <Rating: Rating object (None)>,\n <Rating: Rating object (None)>,\n <Rating: Rating object (None)>,\n <Rating: Rating object (None)>,\n <Rating: Rating object (None)>,\n <Rating: Rating object (None)>,\n <Rating: Rating object (None)>,\n <Rating: Rating object (None)>,\n <Rating: Rating object (None)>,\n <Rating: Rating object (None)>,\n <Rating: Rating object (None)>,\n <Rating: Rating object (None)>,\n <Rating: Rating object (None)>,\n <Rating: Rating object (None)>,\n <Rating: Rating object (None)>,\n <Rating: Rating object (None)>,\n <Rating: Rating object (None)>,\n <Rating: Rating object (None)>,\n <Rating: Rating object (None)>,\n <Rating: Rating object (None)>,\n <Rating: Rating object (None)>,\n <Rating: Rating object (None)>,\n <Rating: Rating object (None)>,\n <Rating: Rating object (None)>,\n <Rating: Rating object (None)>,\n <Rating: Rating object (None)>,\n <Rating: Rating object (None)>,\n <Rating: Rating object (None)>,\n <Rating: Rating object (None)>,\n <Rating: Rating object (None)>,\n <Rating: Rating object (None)>,\n <Rating: Rating object (None)>,\n <Rating: Rating object (None)>,\n <Rating: Rating object (None)>,\n <Rating: Rating object (None)>,\n <Rating: Rating object (None)>,\n <Rating: Rating object (None)>,\n <Rating: Rating object (None)>,\n <Rating: Rating object (None)>,\n <Rating: Rating object (None)>,\n <Rating: Rating object (None)>,\n <Rating: Rating object (None)>,\n <Rating: Rating object (None)>,\n <Rating: Rating object (None)>,\n <Rating: Rating object (None)>,\n <Rating: Rating object (None)>,\n <Rating: Rating object (None)>,\n <Rating: Rating object (None)>,\n <Rating: Rating object (None)>,\n <Rating: Rating object (None)>,\n <Rating: Rating object (None)>,\n <Rating: Rating object (None)>,\n <Rating: Rating object (None)>,\n <Rating: Rating object (None)>,\n <Rating: Rating object (None)>,\n <Rating: Rating object (None)>,\n <Rating: Rating object (None)>,\n <Rating: Rating object (None)>,\n <Rating: Rating object (None)>,\n <Rating: Rating object (None)>,\n <Rating: Rating object (None)>,\n <Rating: Rating object (None)>,\n <Rating: Rating object (None)>,\n <Rating: Rating object (None)>,\n <Rating: Rating object (None)>,\n <Rating: Rating object (None)>,\n <Rating: Rating object (None)>,\n <Rating: Rating object (None)>,\n <Rating: Rating object (None)>,\n <Rating: Rating object (None)>,\n <Rating: Rating object (None)>,\n <Rating: Rating object (None)>,\n <Rating: Rating object (None)>,\n <Rating: Rating object (None)>,\n <Rating: Rating object (None)>,\n <Rating: Rating object (None)>,\n <Rating: Rating object (None)>,\n <Rating: Rating object (None)>,\n <Rating: Rating object (None)>,\n <Rating: Rating object (None)>,\n <Rating: Rating object (None)>,\n <Rating: Rating object (None)>,\n <Rating: Rating object (None)>,\n <Rating: Rating object (None)>,\n <Rating: Rating object (None)>,\n <Rating: Rating object (None)>,\n <Rating: Rating object (None)>,\n <Rating: Rating object (None)>,\n <Rating: Rating object (None)>,\n <Rating: Rating object (None)>,\n <Rating: Rating object (None)>,\n <Rating: Rating object (None)>,\n <Rating: Rating object (None)>,\n <Rating: Rating object (None)>,\n <Rating: Rating object (None)>,\n <Rating: Rating object (None)>,\n <Rating: Rating object (None)>,\n <Rating: Rating object (None)>,\n <Rating: Rating object (None)>,\n <Rating: Rating object (None)>,\n <Rating: Rating object (None)>,\n <Rating: Rating object (None)>,\n <Rating: Rating object (None)>,\n <Rating: Rating object (None)>,\n <Rating: Rating object (None)>,\n <Rating: Rating object (None)>,\n <Rating: Rating object (None)>,\n <Rating: Rating object (None)>,\n <Rating: Rating object (None)>,\n <Rating: Rating object (None)>,\n <Rating: Rating object (None)>,\n <Rating: Rating object (None)>,\n <Rating: Rating object (None)>,\n <Rating: Rating object (None)>,\n <Rating: Rating object (None)>,\n <Rating: Rating object (None)>,\n <Rating: Rating object (None)>,\n <Rating: Rating object (None)>,\n <Rating: Rating object (None)>,\n <Rating: Rating object (None)>,\n <Rating: Rating object (None)>,\n <Rating: Rating object (None)>,\n <Rating: Rating object (None)>,\n <Rating: Rating object (None)>,\n <Rating: Rating object (None)>,\n <Rating: Rating object (None)>,\n <Rating: Rating object (None)>,\n <Rating: Rating object (None)>,\n <Rating: Rating object (None)>,\n <Rating: Rating object (None)>,\n <Rating: Rating object (None)>,\n <Rating: Rating object (None)>,\n <Rating: Rating object (None)>,\n <Rating: Rating object (None)>,\n <Rating: Rating object (None)>,\n <Rating: Rating object (None)>,\n <Rating: Rating object (None)>,\n <Rating: Rating object (None)>,\n <Rating: Rating object (None)>,\n <Rating: Rating object (None)>,\n <Rating: Rating object (None)>,\n <Rating: Rating object (None)>,\n <Rating: Rating object (None)>,\n <Rating: Rating object (None)>,\n <Rating: Rating object (None)>,\n <Rating: Rating object (None)>,\n <Rating: Rating object (None)>,\n <Rating: Rating object (None)>,\n <Rating: Rating object (None)>,\n <Rating: Rating object (None)>,\n <Rating: Rating object (None)>,\n <Rating: Rating object (None)>,\n <Rating: Rating object (None)>,\n <Rating: Rating object (None)>,\n <Rating: Rating object (None)>,\n <Rating: Rating object (None)>,\n <Rating: Rating object (None)>,\n <Rating: Rating object (None)>,\n <Rating: Rating object (None)>,\n <Rating: Rating object (None)>,\n <Rating: Rating object (None)>,\n <Rating: Rating object (None)>,\n <Rating: Rating object (None)>,\n <Rating: Rating object (None)>,\n <Rating: Rating object (None)>,\n <Rating: Rating object (None)>,\n <Rating: Rating object (None)>,\n <Rating: Rating object (None)>,\n <Rating: Rating object (None)>,\n <Rating: Rating object (None)>,\n <Rating: Rating object (None)>,\n <Rating: Rating object (None)>,\n <Rating: Rating object (None)>,\n <Rating: Rating object (None)>,\n <Rating: Rating object (None)>,\n <Rating: Rating object (None)>,\n <Rating: Rating object (None)>,\n <Rating: Rating object (None)>,\n <Rating: Rating object (None)>,\n <Rating: Rating object (None)>,\n <Rating: Rating object (None)>,\n <Rating: Rating object (None)>,\n <Rating: Rating object (None)>,\n <Rating: Rating object (None)>,\n <Rating: Rating object (None)>,\n <Rating: Rating object (None)>,\n <Rating: Rating object (None)>,\n <Rating: Rating object (None)>,\n <Rating: Rating object (None)>,\n <Rating: Rating object (None)>,\n <Rating: Rating object (None)>,\n <Rating: Rating object (None)>,\n <Rating: Rating object (None)>,\n <Rating: Rating object (None)>,\n <Rating: Rating object (None)>,\n <Rating: Rating object (None)>,\n <Rating: Rating object (None)>,\n <Rating: Rating object (None)>,\n <Rating: Rating object (None)>,\n <Rating: Rating object (None)>,\n <Rating: Rating object (None)>,\n <Rating: Rating object (None)>,\n <Rating: Rating object (None)>,\n <Rating: Rating object (None)>,\n <Rating: Rating object (None)>,\n <Rating: Rating object (None)>,\n <Rating: Rating object (None)>,\n <Rating: Rating object (None)>,\n <Rating: Rating object (None)>,\n <Rating: Rating object (None)>,\n <Rating: Rating object (None)>,\n <Rating: Rating object (None)>,\n <Rating: Rating object (None)>,\n <Rating: Rating object (None)>,\n <Rating: Rating object (None)>,\n <Rating: Rating object (None)>,\n <Rating: Rating object (None)>,\n <Rating: Rating object (None)>,\n <Rating: Rating object (None)>,\n <Rating: Rating object (None)>,\n <Rating: Rating object (None)>,\n <Rating: Rating object (None)>,\n <Rating: Rating object (None)>,\n <Rating: Rating object (None)>,\n <Rating: Rating object (None)>,\n <Rating: Rating object (None)>,\n <Rating: Rating object (None)>,\n <Rating: Rating object (None)>,\n <Rating: Rating object (None)>,\n <Rating: Rating object (None)>,\n <Rating: Rating object (None)>,\n <Rating: Rating object (None)>,\n <Rating: Rating object (None)>,\n <Rating: Rating object (None)>,\n <Rating: Rating object (None)>,\n <Rating: Rating object (None)>,\n <Rating: Rating object (None)>,\n <Rating: Rating object (None)>,\n <Rating: Rating object (None)>,\n <Rating: Rating object (None)>,\n <Rating: Rating object (None)>,\n <Rating: Rating object (None)>,\n <Rating: Rating object (None)>,\n <Rating: Rating object (None)>,\n <Rating: Rating object (None)>,\n <Rating: Rating object (None)>,\n <Rating: Rating object (None)>,\n <Rating: Rating object (None)>,\n <Rating: Rating object (None)>,\n <Rating: Rating object (None)>,\n <Rating: Rating object (None)>,\n <Rating: Rating object (None)>,\n <Rating: Rating object (None)>,\n <Rating: Rating object (None)>,\n <Rating: Rating object (None)>,\n <Rating: Rating object (None)>,\n <Rating: Rating object (None)>,\n <Rating: Rating object (None)>,\n <Rating: Rating object (None)>,\n <Rating: Rating object (None)>,\n <Rating: Rating object (None)>,\n <Rating: Rating object (None)>,\n <Rating: Rating object (None)>,\n <Rating: Rating object (None)>,\n <Rating: Rating object (None)>,\n <Rating: Rating object (None)>,\n <Rating: Rating object (None)>,\n <Rating: Rating object (None)>,\n <Rating: Rating object (None)>,\n <Rating: Rating object (None)>,\n <Rating: Rating object (None)>,\n <Rating: Rating object (None)>,\n <Rating: Rating object (None)>,\n <Rating: Rating object (None)>,\n <Rating: Rating object (None)>,\n <Rating: Rating object (None)>,\n <Rating: Rating object (None)>,\n <Rating: Rating object (None)>,\n <Rating: Rating object (None)>,\n <Rating: Rating object (None)>,\n <Rating: Rating object (None)>,\n <Rating: Rating object (None)>,\n <Rating: Rating object (None)>,\n <Rating: Rating object (None)>,\n <Rating: Rating object (None)>,\n <Rating: Rating object (None)>,\n <Rating: Rating object (None)>,\n <Rating: Rating object (None)>,\n <Rating: Rating object (None)>,\n <Rating: Rating object (None)>,\n <Rating: Rating object (None)>,\n <Rating: Rating object (None)>,\n <Rating: Rating object (None)>,\n <Rating: Rating object (None)>,\n <Rating: Rating object (None)>,\n <Rating: Rating object (None)>,\n <Rating: Rating object (None)>,\n <Rating: Rating object (None)>,\n <Rating: Rating object (None)>,\n <Rating: Rating object (None)>,\n <Rating: Rating object (None)>,\n <Rating: Rating object (None)>,\n <Rating: Rating object (None)>,\n <Rating: Rating object (None)>,\n <Rating: Rating object (None)>,\n <Rating: Rating object (None)>,\n <Rating: Rating object (None)>,\n <Rating: Rating object (None)>,\n <Rating: Rating object (None)>,\n <Rating: Rating object (None)>,\n <Rating: Rating object (None)>,\n <Rating: Rating object (None)>,\n <Rating: Rating object (None)>,\n <Rating: Rating object (None)>,\n <Rating: Rating object (None)>,\n <Rating: Rating object (None)>,\n <Rating: Rating object (None)>,\n <Rating: Rating object (None)>,\n <Rating: Rating object (None)>,\n <Rating: Rating object (None)>,\n <Rating: Rating object (None)>,\n <Rating: Rating object (None)>,\n <Rating: Rating object (None)>,\n <Rating: Rating object (None)>,\n <Rating: Rating object (None)>,\n <Rating: Rating object (None)>,\n ...]"
     },
     "execution_count": 17,
     "metadata": {},
     "output_type": "execute_result"
    }
   ],
   "source": [
    "new_rating = []\n",
    "for r in rating_records:\n",
    "    r['content_type'] = ctype\n",
    "    new_rating.append(\n",
    "        Rating(**r)\n",
    "    )\n",
    "Rating.objects.bulk_create(new_rating,ignore_conflicts=True, batch_size=1000)"
   ],
   "metadata": {
    "collapsed": false,
    "ExecuteTime": {
     "end_time": "2024-03-21T12:28:15.296462Z",
     "start_time": "2024-03-21T12:28:02.477051Z"
    }
   },
   "id": "9bcb0ca6286e38d2"
  },
  {
   "cell_type": "code",
   "execution_count": 18,
   "outputs": [],
   "source": [
    "from ratings.tasks import task_update_movie_ratings\n",
    "\n",
    "task_update_movie_ratings()"
   ],
   "metadata": {
    "collapsed": false,
    "ExecuteTime": {
     "end_time": "2024-03-21T12:30:33.412014Z",
     "start_time": "2024-03-21T12:30:26.946218Z"
    }
   },
   "id": "ffbce95f0a841341"
  },
  {
   "cell_type": "code",
   "execution_count": null,
   "outputs": [],
   "source": [],
   "metadata": {
    "collapsed": false
   },
   "id": "d72bc6afb77f691b"
  }
 ],
 "metadata": {
  "kernelspec": {
   "display_name": "Python 3",
   "language": "python",
   "name": "python3"
  },
  "language_info": {
   "codemirror_mode": {
    "name": "ipython",
    "version": 2
   },
   "file_extension": ".py",
   "mimetype": "text/x-python",
   "name": "python",
   "nbconvert_exporter": "python",
   "pygments_lexer": "ipython2",
   "version": "2.7.6"
  }
 },
 "nbformat": 4,
 "nbformat_minor": 5
}
