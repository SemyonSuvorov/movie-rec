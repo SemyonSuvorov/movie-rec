{
 "cells": [
  {
   "cell_type": "code",
   "execution_count": 1,
   "id": "initial_id",
   "metadata": {
    "collapsed": true,
    "ExecuteTime": {
     "end_time": "2024-03-21T12:33:17.560920Z",
     "start_time": "2024-03-21T12:33:16.833385Z"
    }
   },
   "outputs": [],
   "source": [
    "import setup_django\n",
    "setup_django.init()"
   ]
  },
  {
   "cell_type": "code",
   "execution_count": 2,
   "outputs": [
    {
     "name": "stdout",
     "output_type": "stream",
     "text": [
      "6392 57175\n"
     ]
    }
   ],
   "source": [
    "from ratings.models import Rating\n",
    "\n",
    "qs = Rating.objects.all()\n",
    "missing_movie_ids = []\n",
    "for obj in qs:\n",
    "    if obj.content_object is None:\n",
    "        missing_movie_ids.append(obj.object_id)\n",
    "        \n",
    "_total = len(missing_movie_ids)\n",
    "total_missing = list(set(missing_movie_ids))\n",
    "print(len(total_missing), _total)"
   ],
   "metadata": {
    "collapsed": false,
    "ExecuteTime": {
     "end_time": "2024-03-21T12:37:53.154718Z",
     "start_time": "2024-03-21T12:36:58.355689Z"
    }
   },
   "id": "e259598ac614acf2"
  },
  {
   "cell_type": "code",
   "execution_count": 3,
   "outputs": [
    {
     "data": {
      "text/plain": "   movieId  imdbId   tmdbId\n0        1  114709    862.0\n1        2  113497   8844.0\n2        3  113228  15602.0\n3        4  114885  31357.0\n4        5  113041  11862.0",
      "text/html": "<div>\n<style scoped>\n    .dataframe tbody tr th:only-of-type {\n        vertical-align: middle;\n    }\n\n    .dataframe tbody tr th {\n        vertical-align: top;\n    }\n\n    .dataframe thead th {\n        text-align: right;\n    }\n</style>\n<table border=\"1\" class=\"dataframe\">\n  <thead>\n    <tr style=\"text-align: right;\">\n      <th></th>\n      <th>movieId</th>\n      <th>imdbId</th>\n      <th>tmdbId</th>\n    </tr>\n  </thead>\n  <tbody>\n    <tr>\n      <th>0</th>\n      <td>1</td>\n      <td>114709</td>\n      <td>862.0</td>\n    </tr>\n    <tr>\n      <th>1</th>\n      <td>2</td>\n      <td>113497</td>\n      <td>8844.0</td>\n    </tr>\n    <tr>\n      <th>2</th>\n      <td>3</td>\n      <td>113228</td>\n      <td>15602.0</td>\n    </tr>\n    <tr>\n      <th>3</th>\n      <td>4</td>\n      <td>114885</td>\n      <td>31357.0</td>\n    </tr>\n    <tr>\n      <th>4</th>\n      <td>5</td>\n      <td>113041</td>\n      <td>11862.0</td>\n    </tr>\n  </tbody>\n</table>\n</div>"
     },
     "execution_count": 3,
     "metadata": {},
     "output_type": "execute_result"
    }
   ],
   "source": [
    "from django.conf import settings\n",
    "import pandas as pd\n",
    "LINKS_SMALL_CSV = settings.DATA_DIR / 'links_small.csv'\n",
    "links_df = pd.read_csv(LINKS_SMALL_CSV)\n",
    "links_df.head()"
   ],
   "metadata": {
    "collapsed": false,
    "ExecuteTime": {
     "end_time": "2024-03-21T12:39:47.402639Z",
     "start_time": "2024-03-21T12:39:46.698460Z"
    }
   },
   "id": "a769c17a031c3991"
  },
  {
   "cell_type": "code",
   "execution_count": 5,
   "outputs": [
    {
     "data": {
      "text/plain": "   movieId  imdbId   tmdbId\n0        1  114709    862.0\n3        4  114885  31357.0\n6        7  114319  11860.0\n7        8  112302  45325.0\n8        9  114576   9091.0",
      "text/html": "<div>\n<style scoped>\n    .dataframe tbody tr th:only-of-type {\n        vertical-align: middle;\n    }\n\n    .dataframe tbody tr th {\n        vertical-align: top;\n    }\n\n    .dataframe thead th {\n        text-align: right;\n    }\n</style>\n<table border=\"1\" class=\"dataframe\">\n  <thead>\n    <tr style=\"text-align: right;\">\n      <th></th>\n      <th>movieId</th>\n      <th>imdbId</th>\n      <th>tmdbId</th>\n    </tr>\n  </thead>\n  <tbody>\n    <tr>\n      <th>0</th>\n      <td>1</td>\n      <td>114709</td>\n      <td>862.0</td>\n    </tr>\n    <tr>\n      <th>3</th>\n      <td>4</td>\n      <td>114885</td>\n      <td>31357.0</td>\n    </tr>\n    <tr>\n      <th>6</th>\n      <td>7</td>\n      <td>114319</td>\n      <td>11860.0</td>\n    </tr>\n    <tr>\n      <th>7</th>\n      <td>8</td>\n      <td>112302</td>\n      <td>45325.0</td>\n    </tr>\n    <tr>\n      <th>8</th>\n      <td>9</td>\n      <td>114576</td>\n      <td>9091.0</td>\n    </tr>\n  </tbody>\n</table>\n</div>"
     },
     "execution_count": 5,
     "metadata": {},
     "output_type": "execute_result"
    }
   ],
   "source": [
    "ms_df = links_df.copy()[links_df.movieId.isin(total_missing)]\n",
    "ms_df.head()"
   ],
   "metadata": {
    "collapsed": false,
    "ExecuteTime": {
     "end_time": "2024-03-21T12:41:27.514437Z",
     "start_time": "2024-03-21T12:41:27.500436Z"
    }
   },
   "id": "6cfd1fef6595283a"
  },
  {
   "cell_type": "code",
   "execution_count": 7,
   "outputs": [
    {
     "data": {
      "text/plain": "True"
     },
     "execution_count": 7,
     "metadata": {},
     "output_type": "execute_result"
    }
   ],
   "source": [
    "ms_df.shape[0] == len(total_missing)"
   ],
   "metadata": {
    "collapsed": false,
    "ExecuteTime": {
     "end_time": "2024-03-21T12:42:08.604024Z",
     "start_time": "2024-03-21T12:42:08.594228Z"
    }
   },
   "id": "ff4a73f1f17d4391"
  },
  {
   "cell_type": "code",
   "execution_count": 10,
   "outputs": [],
   "source": [
    "def enrich_imdb_col(val):\n",
    "    val = str(val)\n",
    "    if len(val) == 7:\n",
    "        val = f\"tt{val}\"\n",
    "        return val\n",
    "    if len(val) == 6:\n",
    "        val = f\"tt0{val}\"\n",
    "        return val\n",
    "    if len(val) == 5:\n",
    "        val = f\"tt00{val}\"\n",
    "        return val\n",
    "    return val"
   ],
   "metadata": {
    "collapsed": false,
    "ExecuteTime": {
     "end_time": "2024-03-21T12:48:49.949665Z",
     "start_time": "2024-03-21T12:48:49.945163Z"
    }
   },
   "id": "b1aae87b447708bf"
  },
  {
   "cell_type": "code",
   "execution_count": 11,
   "outputs": [
    {
     "data": {
      "text/plain": "   movieId  imdbId   tmdbId         tt\n0        1  114709    862.0  tt0114709\n3        4  114885  31357.0  tt0114885\n6        7  114319  11860.0  tt0114319\n7        8  112302  45325.0  tt0112302\n8        9  114576   9091.0  tt0114576",
      "text/html": "<div>\n<style scoped>\n    .dataframe tbody tr th:only-of-type {\n        vertical-align: middle;\n    }\n\n    .dataframe tbody tr th {\n        vertical-align: top;\n    }\n\n    .dataframe thead th {\n        text-align: right;\n    }\n</style>\n<table border=\"1\" class=\"dataframe\">\n  <thead>\n    <tr style=\"text-align: right;\">\n      <th></th>\n      <th>movieId</th>\n      <th>imdbId</th>\n      <th>tmdbId</th>\n      <th>tt</th>\n    </tr>\n  </thead>\n  <tbody>\n    <tr>\n      <th>0</th>\n      <td>1</td>\n      <td>114709</td>\n      <td>862.0</td>\n      <td>tt0114709</td>\n    </tr>\n    <tr>\n      <th>3</th>\n      <td>4</td>\n      <td>114885</td>\n      <td>31357.0</td>\n      <td>tt0114885</td>\n    </tr>\n    <tr>\n      <th>6</th>\n      <td>7</td>\n      <td>114319</td>\n      <td>11860.0</td>\n      <td>tt0114319</td>\n    </tr>\n    <tr>\n      <th>7</th>\n      <td>8</td>\n      <td>112302</td>\n      <td>45325.0</td>\n      <td>tt0112302</td>\n    </tr>\n    <tr>\n      <th>8</th>\n      <td>9</td>\n      <td>114576</td>\n      <td>9091.0</td>\n      <td>tt0114576</td>\n    </tr>\n  </tbody>\n</table>\n</div>"
     },
     "execution_count": 11,
     "metadata": {},
     "output_type": "execute_result"
    }
   ],
   "source": [
    "ms_df['tt'] = ms_df['imdbId'].apply(enrich_imdb_col)\n",
    "ms_df.head()"
   ],
   "metadata": {
    "collapsed": false,
    "ExecuteTime": {
     "end_time": "2024-03-21T12:48:51.102147Z",
     "start_time": "2024-03-21T12:48:51.095609Z"
    }
   },
   "id": "ebb69801a4f9f2a8"
  },
  {
   "cell_type": "code",
   "execution_count": 12,
   "outputs": [
    {
     "data": {
      "text/plain": "True"
     },
     "execution_count": 12,
     "metadata": {},
     "output_type": "execute_result"
    }
   ],
   "source": [
    "MOVIES_CSV = settings.DATA_DIR / 'movies_metadata.csv'\n",
    "MOVIES_CSV.exists()"
   ],
   "metadata": {
    "collapsed": false,
    "ExecuteTime": {
     "end_time": "2024-03-21T12:49:52.878407Z",
     "start_time": "2024-03-21T12:49:52.855137Z"
    }
   },
   "id": "18a88ef3fc11f5f3"
  },
  {
   "cell_type": "code",
   "execution_count": 13,
   "outputs": [
    {
     "data": {
      "text/plain": "     imdb_id                                           overview release_date  \\\n0  tt0114709  Led by Woody, Andy's toys live happily in his ...   1995-10-30   \n1  tt0113497  When siblings Judy and Peter discover an encha...   1995-12-15   \n2  tt0113228  A family wedding reignites the ancient feud be...   1995-12-22   \n3  tt0114885  Cheated on, mistreated and stepped on, the wom...   1995-12-22   \n4  tt0113041  Just when George Banks has recovered from his ...   1995-02-10   \n\n                         title  \n0                    Toy Story  \n1                      Jumanji  \n2             Grumpier Old Men  \n3            Waiting to Exhale  \n4  Father of the Bride Part II  ",
      "text/html": "<div>\n<style scoped>\n    .dataframe tbody tr th:only-of-type {\n        vertical-align: middle;\n    }\n\n    .dataframe tbody tr th {\n        vertical-align: top;\n    }\n\n    .dataframe thead th {\n        text-align: right;\n    }\n</style>\n<table border=\"1\" class=\"dataframe\">\n  <thead>\n    <tr style=\"text-align: right;\">\n      <th></th>\n      <th>imdb_id</th>\n      <th>overview</th>\n      <th>release_date</th>\n      <th>title</th>\n    </tr>\n  </thead>\n  <tbody>\n    <tr>\n      <th>0</th>\n      <td>tt0114709</td>\n      <td>Led by Woody, Andy's toys live happily in his ...</td>\n      <td>1995-10-30</td>\n      <td>Toy Story</td>\n    </tr>\n    <tr>\n      <th>1</th>\n      <td>tt0113497</td>\n      <td>When siblings Judy and Peter discover an encha...</td>\n      <td>1995-12-15</td>\n      <td>Jumanji</td>\n    </tr>\n    <tr>\n      <th>2</th>\n      <td>tt0113228</td>\n      <td>A family wedding reignites the ancient feud be...</td>\n      <td>1995-12-22</td>\n      <td>Grumpier Old Men</td>\n    </tr>\n    <tr>\n      <th>3</th>\n      <td>tt0114885</td>\n      <td>Cheated on, mistreated and stepped on, the wom...</td>\n      <td>1995-12-22</td>\n      <td>Waiting to Exhale</td>\n    </tr>\n    <tr>\n      <th>4</th>\n      <td>tt0113041</td>\n      <td>Just when George Banks has recovered from his ...</td>\n      <td>1995-02-10</td>\n      <td>Father of the Bride Part II</td>\n    </tr>\n  </tbody>\n</table>\n</div>"
     },
     "execution_count": 13,
     "metadata": {},
     "output_type": "execute_result"
    }
   ],
   "source": [
    "movies_cols = ['title', 'overview', 'release_date', 'imdb_id']\n",
    "movies_df = pd.read_csv(MOVIES_CSV, usecols=movies_cols)\n",
    "movies_df.head()"
   ],
   "metadata": {
    "collapsed": false,
    "ExecuteTime": {
     "end_time": "2024-03-21T12:51:05.602125Z",
     "start_time": "2024-03-21T12:51:04.723356Z"
    }
   },
   "id": "4a7e82ac7ebe87fb"
  },
  {
   "cell_type": "code",
   "execution_count": 14,
   "outputs": [
    {
     "data": {
      "text/plain": "   movieId  imdbId   tmdbId         tt    imdb_id  \\\n0        1  114709    862.0  tt0114709  tt0114709   \n1        4  114885  31357.0  tt0114885  tt0114885   \n2        7  114319  11860.0  tt0114319  tt0114319   \n3        8  112302  45325.0  tt0112302  tt0112302   \n4        9  114576   9091.0  tt0114576  tt0114576   \n\n                                            overview release_date  \\\n0  Led by Woody, Andy's toys live happily in his ...   1995-10-30   \n1  Cheated on, mistreated and stepped on, the wom...   1995-12-22   \n2  An ugly duckling having undergone a remarkable...   1995-12-15   \n3  A mischievous young boy, Tom Sawyer, witnesses...   1995-12-22   \n4  International action superstar Jean Claude Van...   1995-12-22   \n\n               title  \n0          Toy Story  \n1  Waiting to Exhale  \n2            Sabrina  \n3       Tom and Huck  \n4       Sudden Death  ",
      "text/html": "<div>\n<style scoped>\n    .dataframe tbody tr th:only-of-type {\n        vertical-align: middle;\n    }\n\n    .dataframe tbody tr th {\n        vertical-align: top;\n    }\n\n    .dataframe thead th {\n        text-align: right;\n    }\n</style>\n<table border=\"1\" class=\"dataframe\">\n  <thead>\n    <tr style=\"text-align: right;\">\n      <th></th>\n      <th>movieId</th>\n      <th>imdbId</th>\n      <th>tmdbId</th>\n      <th>tt</th>\n      <th>imdb_id</th>\n      <th>overview</th>\n      <th>release_date</th>\n      <th>title</th>\n    </tr>\n  </thead>\n  <tbody>\n    <tr>\n      <th>0</th>\n      <td>1</td>\n      <td>114709</td>\n      <td>862.0</td>\n      <td>tt0114709</td>\n      <td>tt0114709</td>\n      <td>Led by Woody, Andy's toys live happily in his ...</td>\n      <td>1995-10-30</td>\n      <td>Toy Story</td>\n    </tr>\n    <tr>\n      <th>1</th>\n      <td>4</td>\n      <td>114885</td>\n      <td>31357.0</td>\n      <td>tt0114885</td>\n      <td>tt0114885</td>\n      <td>Cheated on, mistreated and stepped on, the wom...</td>\n      <td>1995-12-22</td>\n      <td>Waiting to Exhale</td>\n    </tr>\n    <tr>\n      <th>2</th>\n      <td>7</td>\n      <td>114319</td>\n      <td>11860.0</td>\n      <td>tt0114319</td>\n      <td>tt0114319</td>\n      <td>An ugly duckling having undergone a remarkable...</td>\n      <td>1995-12-15</td>\n      <td>Sabrina</td>\n    </tr>\n    <tr>\n      <th>3</th>\n      <td>8</td>\n      <td>112302</td>\n      <td>45325.0</td>\n      <td>tt0112302</td>\n      <td>tt0112302</td>\n      <td>A mischievous young boy, Tom Sawyer, witnesses...</td>\n      <td>1995-12-22</td>\n      <td>Tom and Huck</td>\n    </tr>\n    <tr>\n      <th>4</th>\n      <td>9</td>\n      <td>114576</td>\n      <td>9091.0</td>\n      <td>tt0114576</td>\n      <td>tt0114576</td>\n      <td>International action superstar Jean Claude Van...</td>\n      <td>1995-12-22</td>\n      <td>Sudden Death</td>\n    </tr>\n  </tbody>\n</table>\n</div>"
     },
     "execution_count": 14,
     "metadata": {},
     "output_type": "execute_result"
    }
   ],
   "source": [
    "missing_movies_df = ms_df.merge(movies_df, left_on='tt', right_on='imdb_id')\n",
    "missing_movies_df.head()"
   ],
   "metadata": {
    "collapsed": false,
    "ExecuteTime": {
     "end_time": "2024-03-21T12:53:02.043645Z",
     "start_time": "2024-03-21T12:53:02.020485Z"
    }
   },
   "id": "52e57c896e1a28fd"
  },
  {
   "cell_type": "code",
   "execution_count": 15,
   "outputs": [
    {
     "data": {
      "text/plain": "   movieId  imdbId   tmdbId         tt    imdb_id  \\\n0        1  114709    862.0  tt0114709  tt0114709   \n1        4  114885  31357.0  tt0114885  tt0114885   \n2        7  114319  11860.0  tt0114319  tt0114319   \n3        8  112302  45325.0  tt0112302  tt0112302   \n4        9  114576   9091.0  tt0114576  tt0114576   \n\n                                            overview release_date  \\\n0  Led by Woody, Andy's toys live happily in his ...   1995-10-30   \n1  Cheated on, mistreated and stepped on, the wom...   1995-12-22   \n2  An ugly duckling having undergone a remarkable...   1995-12-15   \n3  A mischievous young boy, Tom Sawyer, witnesses...   1995-12-22   \n4  International action superstar Jean Claude Van...   1995-12-22   \n\n               title  id id_alt  \n0          Toy Story   1    862  \n1  Waiting to Exhale   4  31357  \n2            Sabrina   7  11860  \n3       Tom and Huck   8  45325  \n4       Sudden Death   9   9091  ",
      "text/html": "<div>\n<style scoped>\n    .dataframe tbody tr th:only-of-type {\n        vertical-align: middle;\n    }\n\n    .dataframe tbody tr th {\n        vertical-align: top;\n    }\n\n    .dataframe thead th {\n        text-align: right;\n    }\n</style>\n<table border=\"1\" class=\"dataframe\">\n  <thead>\n    <tr style=\"text-align: right;\">\n      <th></th>\n      <th>movieId</th>\n      <th>imdbId</th>\n      <th>tmdbId</th>\n      <th>tt</th>\n      <th>imdb_id</th>\n      <th>overview</th>\n      <th>release_date</th>\n      <th>title</th>\n      <th>id</th>\n      <th>id_alt</th>\n    </tr>\n  </thead>\n  <tbody>\n    <tr>\n      <th>0</th>\n      <td>1</td>\n      <td>114709</td>\n      <td>862.0</td>\n      <td>tt0114709</td>\n      <td>tt0114709</td>\n      <td>Led by Woody, Andy's toys live happily in his ...</td>\n      <td>1995-10-30</td>\n      <td>Toy Story</td>\n      <td>1</td>\n      <td>862</td>\n    </tr>\n    <tr>\n      <th>1</th>\n      <td>4</td>\n      <td>114885</td>\n      <td>31357.0</td>\n      <td>tt0114885</td>\n      <td>tt0114885</td>\n      <td>Cheated on, mistreated and stepped on, the wom...</td>\n      <td>1995-12-22</td>\n      <td>Waiting to Exhale</td>\n      <td>4</td>\n      <td>31357</td>\n    </tr>\n    <tr>\n      <th>2</th>\n      <td>7</td>\n      <td>114319</td>\n      <td>11860.0</td>\n      <td>tt0114319</td>\n      <td>tt0114319</td>\n      <td>An ugly duckling having undergone a remarkable...</td>\n      <td>1995-12-15</td>\n      <td>Sabrina</td>\n      <td>7</td>\n      <td>11860</td>\n    </tr>\n    <tr>\n      <th>3</th>\n      <td>8</td>\n      <td>112302</td>\n      <td>45325.0</td>\n      <td>tt0112302</td>\n      <td>tt0112302</td>\n      <td>A mischievous young boy, Tom Sawyer, witnesses...</td>\n      <td>1995-12-22</td>\n      <td>Tom and Huck</td>\n      <td>8</td>\n      <td>45325</td>\n    </tr>\n    <tr>\n      <th>4</th>\n      <td>9</td>\n      <td>114576</td>\n      <td>9091.0</td>\n      <td>tt0114576</td>\n      <td>tt0114576</td>\n      <td>International action superstar Jean Claude Van...</td>\n      <td>1995-12-22</td>\n      <td>Sudden Death</td>\n      <td>9</td>\n      <td>9091</td>\n    </tr>\n  </tbody>\n</table>\n</div>"
     },
     "execution_count": 15,
     "metadata": {},
     "output_type": "execute_result"
    }
   ],
   "source": [
    "missing_movies_df['id'] = missing_movies_df['movieId']\n",
    "missing_movies_df['id_alt'] = missing_movies_df['tmdbId'].apply(lambda x: str(int(x)))\n",
    "missing_movies_df.head()"
   ],
   "metadata": {
    "collapsed": false,
    "ExecuteTime": {
     "end_time": "2024-03-21T12:56:00.584852Z",
     "start_time": "2024-03-21T12:56:00.518310Z"
    }
   },
   "id": "559ad32750dff213"
  },
  {
   "cell_type": "code",
   "execution_count": 16,
   "outputs": [
    {
     "data": {
      "text/plain": "   id id_alt              title\n0   1    862          Toy Story\n1   4  31357  Waiting to Exhale\n2   7  11860            Sabrina\n3   8  45325       Tom and Huck\n4   9   9091       Sudden Death",
      "text/html": "<div>\n<style scoped>\n    .dataframe tbody tr th:only-of-type {\n        vertical-align: middle;\n    }\n\n    .dataframe tbody tr th {\n        vertical-align: top;\n    }\n\n    .dataframe thead th {\n        text-align: right;\n    }\n</style>\n<table border=\"1\" class=\"dataframe\">\n  <thead>\n    <tr style=\"text-align: right;\">\n      <th></th>\n      <th>id</th>\n      <th>id_alt</th>\n      <th>title</th>\n    </tr>\n  </thead>\n  <tbody>\n    <tr>\n      <th>0</th>\n      <td>1</td>\n      <td>862</td>\n      <td>Toy Story</td>\n    </tr>\n    <tr>\n      <th>1</th>\n      <td>4</td>\n      <td>31357</td>\n      <td>Waiting to Exhale</td>\n    </tr>\n    <tr>\n      <th>2</th>\n      <td>7</td>\n      <td>11860</td>\n      <td>Sabrina</td>\n    </tr>\n    <tr>\n      <th>3</th>\n      <td>8</td>\n      <td>45325</td>\n      <td>Tom and Huck</td>\n    </tr>\n    <tr>\n      <th>4</th>\n      <td>9</td>\n      <td>9091</td>\n      <td>Sudden Death</td>\n    </tr>\n  </tbody>\n</table>\n</div>"
     },
     "execution_count": 16,
     "metadata": {},
     "output_type": "execute_result"
    }
   ],
   "source": [
    "final_df = missing_movies_df.copy()[['id', 'id_alt', 'title']]\n",
    "final_df.head()"
   ],
   "metadata": {
    "collapsed": false,
    "ExecuteTime": {
     "end_time": "2024-03-21T12:57:10.215894Z",
     "start_time": "2024-03-21T12:57:10.194017Z"
    }
   },
   "id": "30238a36400e08fb"
  },
  {
   "cell_type": "code",
   "execution_count": 26,
   "outputs": [
    {
     "data": {
      "text/plain": "6034"
     },
     "execution_count": 26,
     "metadata": {},
     "output_type": "execute_result"
    }
   ],
   "source": [
    "from movies.models import Movie\n",
    "alt_id_list = final_df['id_alt'].to_list()\n",
    "movies_qs = Movie.objects.filter(id__in=alt_id_list)\n",
    "movies_qs.count()"
   ],
   "metadata": {
    "collapsed": false,
    "ExecuteTime": {
     "end_time": "2024-03-21T13:42:20.546137Z",
     "start_time": "2024-03-21T13:42:20.507521Z"
    }
   },
   "id": "152b247ea9d7b175"
  },
  {
   "cell_type": "code",
   "execution_count": 27,
   "outputs": [],
   "source": [
    "movies_qs = Movie.objects.filter(id__in=alt_id_list)\n",
    "from django.forms.models import model_to_dict\n",
    "for obj in movies_qs:\n",
    "    data = final_df.copy()[final_df['id_alt'] == str(obj.id)]\n",
    "    if data.shape[0] == 1:\n",
    "        og_model_data = model_to_dict(obj)\n",
    "        updated_data = data.to_dict('records')[0]\n",
    "        if obj.title == updated_data.get('title'):\n",
    "            og_model_data['id'] = updated_data['id']\n",
    "            new_model_data = {**og_model_data}\n",
    "            obj.delete()\n",
    "            Movie.objects.create(**new_model_data)"
   ],
   "metadata": {
    "collapsed": false,
    "ExecuteTime": {
     "end_time": "2024-03-21T13:44:38.677174Z",
     "start_time": "2024-03-21T13:42:24.812305Z"
    }
   },
   "id": "f8b50b25e9868e10"
  },
  {
   "cell_type": "code",
   "execution_count": 28,
   "outputs": [],
   "source": [
    "from ratings.tasks import task_update_movie_ratings\n",
    "task_update_movie_ratings()"
   ],
   "metadata": {
    "collapsed": false,
    "ExecuteTime": {
     "end_time": "2024-03-21T13:44:47.234740Z",
     "start_time": "2024-03-21T13:44:38.677936Z"
    }
   },
   "id": "e835e49d7e1cd429"
  },
  {
   "cell_type": "code",
   "execution_count": null,
   "outputs": [],
   "source": [],
   "metadata": {
    "collapsed": false
   },
   "id": "e8fa1b7ac3a9c915"
  }
 ],
 "metadata": {
  "kernelspec": {
   "display_name": "Python 3",
   "language": "python",
   "name": "python3"
  },
  "language_info": {
   "codemirror_mode": {
    "name": "ipython",
    "version": 2
   },
   "file_extension": ".py",
   "mimetype": "text/x-python",
   "name": "python",
   "nbconvert_exporter": "python",
   "pygments_lexer": "ipython2",
   "version": "2.7.6"
  }
 },
 "nbformat": 4,
 "nbformat_minor": 5
}
